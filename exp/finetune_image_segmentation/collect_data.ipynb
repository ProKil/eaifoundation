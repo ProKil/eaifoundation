{
 "cells": [
  {
   "cell_type": "code",
   "execution_count": 1,
   "metadata": {},
   "outputs": [
    {
     "name": "stderr",
     "output_type": "stream",
     "text": [
      "/home/hzhu2/anaconda3/envs/allenact-foundation/lib/python3.9/site-packages/tqdm/auto.py:22: TqdmWarning: IProgress not found. Please update jupyter and ipywidgets. See https://ipywidgets.readthedocs.io/en/stable/user_install.html\n",
      "  from .autonotebook import tqdm as notebook_tqdm\n",
      "Loading train: 100%|██████████| 10000/10000 [00:01<00:00, 8936.97it/s]\n",
      "Loading val: 100%|██████████| 1000/1000 [00:00<00:00, 8729.66it/s]\n",
      "Loading test: 100%|██████████| 1000/1000 [00:00<00:00, 9281.04it/s]\n"
     ]
    }
   ],
   "source": [
    "from termios import TIOCM_DSR\n",
    "import warnings\n",
    "import random\n",
    "import json\n",
    "import sys\n",
    "import cv2\n",
    "import tqdm\n",
    "import os\n",
    "\n",
    "from ai2thor.controller import Controller\n",
    "import ai2thor\n",
    "from allenact_plugins.ithor_plugin.ithor_util import (\n",
    "    horizontal_to_vertical_fov,\n",
    ")\n",
    "from data_collection_utils import (\n",
    "    pos_to_id,\n",
    "    teleport_to,\n",
    "    take_step,\n",
    "    find_shortes_terminal_path\n",
    ")\n",
    "from boolset.tasks_and_samplers import (\n",
    "    AgentPose,\n",
    "    HouseAugmenter,\n",
    "    ProcTHORDataset,\n",
    "    Vector3,\n",
    ")\n",
    "\n",
    "import prior\n",
    "from allenact.embodiedai.sensors.vision_sensors import DepthSensor\n",
    "\n",
    "# configurations\n",
    "THOR_COMMIT_ID = \"627521a56508f212749a779d358ab17df10e0d8e\"\n",
    "CAMERA_WIDTH = 224\n",
    "CAMERA_HEIGHT = 224\n",
    "HORIZONTAL_FIELD_OF_VIEW = 100\n",
    "STEP_SIZE = 0.2\n",
    "ROTATION_DEGREES = 45.0\n",
    "VISIBILITY_DISTANCE = 1.5\n",
    "\n",
    "dataset = prior.load_dataset(\"procthor-10k\")\n",
    "train_scenes = dataset[\"train\"]\n",
    "val_scenes = dataset[\"val\"]\n",
    "SCENES = ProcTHORDataset(\n",
    "    [i for i in train_scenes] + [i for i in val_scenes]\n",
    ")\n",
    "\n",
    "# define dataset collection parameters\n",
    "TRAIN = False if sys.argv[1] == \"test\" else True\n",
    "NUM_ANCHORS = 1000 if TRAIN else 100\n",
    "NUM_STEPS = 4\n",
    "ROT_ANGLE = 30\n",
    "ACTIONS = [\"MoveAhead\", \"MoveBack\", \"RotateLeft\", \"RotateRight\"]\n",
    "IMG_ROOT = '../data/interactron/train' if TRAIN else '../data/interactron/test'\n",
    "ANN_PATH = '../data/interactron/annotations/interactron_v1_train.json' if TRAIN \\\n",
    "    else '../data/interactron/annotations/interactron_v1_test.json'\n",
    "CTRL = Controller(\n",
    "    commit_id=THOR_COMMIT_ID,\n",
    "    server_class=ai2thor.fifo_server.FifoServer,\n",
    "    include_private_scenes=False,\n",
    "    fastActionEmit=True,\n",
    "    snapToGrid=False,\n",
    "    autoSimulation=False,\n",
    "    autoSyncTransforms=True,\n",
    "    width=CAMERA_WIDTH,\n",
    "    height=CAMERA_HEIGHT,\n",
    "    fieldOfView=horizontal_to_vertical_fov(\n",
    "        horizontal_fov_in_degrees=HORIZONTAL_FIELD_OF_VIEW,\n",
    "        width=CAMERA_WIDTH,\n",
    "        height=CAMERA_HEIGHT,\n",
    "    ),\n",
    "    makeAgentsVisible=True,\n",
    "    visibilityScheme=\"Distance\",\n",
    "    agentMode=\"arm\",\n",
    "    rotateStepDegrees=ROTATION_DEGREES,\n",
    "    visibilityDistance=VISIBILITY_DISTANCE,\n",
    "    gridSize=STEP_SIZE,\n",
    "    useMassThreshold=True,\n",
    "    massThreshold=10,\n",
    "    platform=\"CloudRendering\",\n",
    "    renderSemanticSegmentation=True\n",
    ")"
   ]
  },
  {
   "cell_type": "code",
   "execution_count": 2,
   "metadata": {},
   "outputs": [],
   "source": [
    "currect_house = SCENES.initialize_house(\n",
    "    controller=CTRL,\n",
    "    index=0 # [0, len(SCENES)]\n",
    ")\n"
   ]
  },
  {
   "cell_type": "code",
   "execution_count": 3,
   "metadata": {},
   "outputs": [],
   "source": [
    "import numpy as np\n",
    "current_house_ind = 0\n",
    "for i in range(10):\n",
    "    standing = (\n",
    "        {}\n",
    "        if CTRL.initialization_parameters[\"agentMode\"]\n",
    "        == \"locobot\"\n",
    "        else {\"standing\": np.random.choice([False, True])}\n",
    "    )\n",
    "    starting_pose: AgentPose = {\n",
    "        \"position\": np.random.choice(\n",
    "            SCENES.reachable_positions_map[  # type: ignore\n",
    "                current_house_ind\n",
    "            ]\n",
    "        ),\n",
    "        \"rotation\": Vector3(\n",
    "            x=0, y=np.random.random() * 360, z=0\n",
    "        ),\n",
    "        \"horizon\": np.random.randint(-1, 2) * 30,\n",
    "        \"standing\": standing[\"standing\"]\n",
    "        if \"standing\" in standing\n",
    "        else None,\n",
    "    }\n",
    "\n",
    "    md = CTRL.step(\n",
    "        action=\"TeleportFull\", **starting_pose\n",
    "    ).metadata\n",
    "    if not md[\"lastActionSuccess\"]:\n",
    "        if i == 10 - 1:\n",
    "            warnings.warn(\n",
    "                f\"Teleport failed in {current_house_ind} {10} times!\"\n",
    "            )\n",
    "        continue\n",
    "    break\n",
    "else:\n",
    "    raise Exception(\"Could not find a valid starting pose.\")"
   ]
  },
  {
   "cell_type": "code",
   "execution_count": 9,
   "metadata": {},
   "outputs": [
    {
     "name": "stdout",
     "output_type": "stream",
     "text": [
      "{'cornerPoints': [[6.102851867675781, 2.1074485778808594, 5.524420738220215], [6.102851867675781, 2.1074485778808594, 4.486842155456543], [6.102851867675781, 0.0005974769592285156, 5.524420738220215], [6.102851867675781, 0.0005974769592285156, 4.486842155456543], [5.867778778076172, 2.1074485778808594, 5.524420738220215], [5.867778778076172, 2.1074485778808594, 4.486842155456543], [5.867778778076172, 0.0005974769592285156, 5.524420738220215], [5.867778778076172, 0.0005974769592285156, 4.486842155456543]], 'center': {'x': 5.985315322875977, 'y': 1.054023027420044, 'z': 5.005631446838379}, 'size': {'x': 0.23507308959960938, 'y': 2.106851100921631, 'z': 1.0375785827636719}}\n"
     ]
    },
    {
     "ename": "TypeError",
     "evalue": "float() argument must be a string or a number, not 'dict'",
     "output_type": "error",
     "traceback": [
      "\u001b[0;31m---------------------------------------------------------------------------\u001b[0m",
      "\u001b[0;31mTypeError\u001b[0m                                 Traceback (most recent call last)",
      "Cell \u001b[0;32mIn [9], line 14\u001b[0m\n\u001b[1;32m     11\u001b[0m     \u001b[38;5;28;01mreturn\u001b[39;00m size\n\u001b[1;32m     12\u001b[0m \u001b[38;5;28;01mfor\u001b[39;00m i \u001b[38;5;129;01min\u001b[39;00m md[\u001b[38;5;124m\"\u001b[39m\u001b[38;5;124mobjects\u001b[39m\u001b[38;5;124m\"\u001b[39m]:\n\u001b[1;32m     13\u001b[0m     \u001b[38;5;28mprint\u001b[39m(i[\u001b[38;5;124m\"\u001b[39m\u001b[38;5;124mobjectId\u001b[39m\u001b[38;5;124m\"\u001b[39m], i[\u001b[38;5;124m\"\u001b[39m\u001b[38;5;124mbreakable\u001b[39m\u001b[38;5;124m\"\u001b[39m], i[\u001b[38;5;124m\"\u001b[39m\u001b[38;5;124mmass\u001b[39m\u001b[38;5;124m\"\u001b[39m],\n\u001b[0;32m---> 14\u001b[0m           \u001b[43mget_size_from_corner_points_3d\u001b[49m\u001b[43m(\u001b[49m\u001b[43mi\u001b[49m\u001b[43m[\u001b[49m\u001b[38;5;124;43m\"\u001b[39;49m\u001b[38;5;124;43maxisAlignedBoundingBox\u001b[39;49m\u001b[38;5;124;43m\"\u001b[39;49m\u001b[43m]\u001b[49m\u001b[43m)\u001b[49m)\n",
      "Cell \u001b[0;32mIn [9], line 10\u001b[0m, in \u001b[0;36mget_size_from_corner_points_3d\u001b[0;34m(corner_points)\u001b[0m\n\u001b[1;32m      2\u001b[0m \u001b[38;5;124;03m\"\"\"\u001b[39;00m\n\u001b[1;32m      3\u001b[0m \u001b[38;5;124;03mGet the size of an object from its corner points.\u001b[39;00m\n\u001b[1;32m      4\u001b[0m \u001b[38;5;124;03mArgs:\u001b[39;00m\n\u001b[0;32m   (...)\u001b[0m\n\u001b[1;32m      7\u001b[0m \u001b[38;5;124;03m    size: (np.array) 3D size of an object.\u001b[39;00m\n\u001b[1;32m      8\u001b[0m \u001b[38;5;124;03m\"\"\"\u001b[39;00m\n\u001b[1;32m      9\u001b[0m \u001b[38;5;28mprint\u001b[39m(corner_points)\n\u001b[0;32m---> 10\u001b[0m size \u001b[38;5;241m=\u001b[39m np\u001b[38;5;241m.\u001b[39mmax(\u001b[43mnp\u001b[49m\u001b[38;5;241;43m.\u001b[39;49m\u001b[43marray\u001b[49m\u001b[43m(\u001b[49m\u001b[43mcorner_points\u001b[49m\u001b[43m,\u001b[49m\u001b[43m \u001b[49m\u001b[43mdtype\u001b[49m\u001b[38;5;241;43m=\u001b[39;49m\u001b[43mnp\u001b[49m\u001b[38;5;241;43m.\u001b[39;49m\u001b[43mfloat32\u001b[49m\u001b[43m)\u001b[49m, axis\u001b[38;5;241m=\u001b[39m\u001b[38;5;241m0\u001b[39m) \u001b[38;5;241m-\u001b[39m np\u001b[38;5;241m.\u001b[39mmin(np\u001b[38;5;241m.\u001b[39marray(corner_points, dtype\u001b[38;5;241m=\u001b[39mnp\u001b[38;5;241m.\u001b[39mfloat32), axis\u001b[38;5;241m=\u001b[39m\u001b[38;5;241m0\u001b[39m)\n\u001b[1;32m     11\u001b[0m \u001b[38;5;28;01mreturn\u001b[39;00m size\n",
      "\u001b[0;31mTypeError\u001b[0m: float() argument must be a string or a number, not 'dict'"
     ]
    }
   ],
   "source": [
    "for i in md[\"objects\"]:\n",
    "    print(i[\"objectId\"], i[\"breakable\"], i[\"mass\"],\n",
    "          i[\"axisAlignedBoundingBox\"][\"size\"])"
   ]
  },
  {
   "cell_type": "code",
   "execution_count": 12,
   "metadata": {},
   "outputs": [],
   "source": [
    "md = CTRL.step(\"randomizeObjectMass\").metadata"
   ]
  },
  {
   "cell_type": "code",
   "execution_count": null,
   "metadata": {},
   "outputs": [],
   "source": []
  }
 ],
 "metadata": {
  "kernelspec": {
   "display_name": "Python 3.9.13 ('allenact-foundation')",
   "language": "python",
   "name": "python3"
  },
  "language_info": {
   "codemirror_mode": {
    "name": "ipython",
    "version": 3
   },
   "file_extension": ".py",
   "mimetype": "text/x-python",
   "name": "python",
   "nbconvert_exporter": "python",
   "pygments_lexer": "ipython3",
   "version": "3.9.13"
  },
  "orig_nbformat": 4,
  "vscode": {
   "interpreter": {
    "hash": "274807b8c2819fefd2fafb9f21b207a947784604b1c1aa41996dd2931a3f5b8e"
   }
  }
 },
 "nbformat": 4,
 "nbformat_minor": 2
}
