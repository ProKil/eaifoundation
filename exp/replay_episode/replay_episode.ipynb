{
 "cells": [
  {
   "cell_type": "code",
   "execution_count": null,
   "metadata": {},
   "outputs": [],
   "source": [
    "%pip install imageio==2.4.1\n",
    "from ai2thor_colab import show_video\n",
    "import ai2thor_colab\n",
    "import tqdm\n",
    "ai2thor_colab.start_xserver()\n",
    "# get trajectories\n",
    "import h5py\n",
    "import numpy as np\n",
    "from allenact.utils.inference import InferenceAgent\n",
    "from transformers import T5Tokenizer\n",
    "from frozen_lm_qa.flax_model import FlaxT5ForMemoryQuestionAnswering"
   ]
  },
  {
   "cell_type": "code",
   "execution_count": null,
   "metadata": {},
   "outputs": [],
   "source": [
    "%load_ext autoreload\n",
    "%autoreload 2\n",
    "import sys\n",
    "sys.path.append(\"/home/haoz/allenact/projects/procthor-rearrangement/\")\n",
    "sys.path.append(\"/home/haoz/allenact/projects/procthor-rearrangement/ai2thor_rearrangement/\")\n",
    "from procthor_baseline_configs.one_phase.one_phase_rgb_clip_dagger_multi_node import (\n",
    "    ProcThorOnePhaseRGBClipResNet50DaggerTrainMultiNodeConfig as Config,\n",
    ")\n",
    "from rearrange.environment import RearrangeTaskSpec"
   ]
  },
  {
   "cell_type": "code",
   "execution_count": null,
   "metadata": {},
   "outputs": [],
   "source": [
    "tokenizer = T5Tokenizer.from_pretrained(\"t5-base\")\n",
    "model = FlaxT5ForMemoryQuestionAnswering.from_pretrained(\"/home/haoz/t5x-frozen-lm-qa-base\")"
   ]
  },
  {
   "cell_type": "code",
   "execution_count": null,
   "metadata": {},
   "outputs": [],
   "source": [
    "config = Config()\n",
    "task_sampler_args = config.train_task_sampler_args(process_ind=0, total_processes=2500)\n",
    "task_sampler_args[\"epochs\"] = 1\n",
    "task_sampler_args[\"allowed_scenes\"] = [\"train_9404\"]"
   ]
  },
  {
   "cell_type": "code",
   "execution_count": null,
   "metadata": {},
   "outputs": [],
   "source": [
    "task_sampler = config.make_sampler_fn(**task_sampler_args)\n",
    "task = task_sampler.next_task()"
   ]
  },
  {
   "cell_type": "code",
   "execution_count": null,
   "metadata": {},
   "outputs": [],
   "source": [
    "question = tokenizer([\"Is there a Drawer in the Bedroom?\"], return_tensors=\"np\")"
   ]
  },
  {
   "cell_type": "code",
   "execution_count": null,
   "metadata": {},
   "outputs": [],
   "source": [
    "task = task_sampler.next_task()\n",
    "frames = []\n",
    "observations = task.get_observations()\n",
    "agent = InferenceAgent.from_experiment_config(\n",
    "        exp_config=config,\n",
    "        checkpoint_path=\"/home/haoz/ckpt_jordi.pt\",\n",
    "        device=\"cuda:1\",\n",
    "    )\n",
    "agent.reset()\n",
    "# for action in tqdm.tqdm(actions):\n",
    "while not task.is_done():\n",
    "    action = agent.act(observations=observations)\n",
    "    hid = agent.memory.tensor(\"rnn\").detach().cpu().numpy()\n",
    "    summary_ids = model.generate(hid, question[\"input_ids\"]).sequences\n",
    "    print(tokenizer.decode(summary_ids[0], skip_special_tokens=True, clean_up_tokenization_spaces=False))\n",
    "    frame = task.env.controller.last_event.frame\n",
    "    observations = task.step(action).observation\n",
    "    frames.append(frame)\n",
    "show_video(frames, fps=5)"
   ]
  }
 ],
 "metadata": {
  "kernelspec": {
   "display_name": "Python 3.9.12 ('thorgraph')",
   "language": "python",
   "name": "python3"
  },
  "language_info": {
   "codemirror_mode": {
    "name": "ipython",
    "version": 3
   },
   "file_extension": ".py",
   "mimetype": "text/x-python",
   "name": "python",
   "nbconvert_exporter": "python",
   "pygments_lexer": "ipython3",
   "version": "3.9.12"
  },
  "orig_nbformat": 4,
  "vscode": {
   "interpreter": {
    "hash": "33975093ead84c4d898830ea0e08dc4357bcaf0df7f65f33447fadf2c8b58feb"
   }
  }
 },
 "nbformat": 4,
 "nbformat_minor": 2
}
